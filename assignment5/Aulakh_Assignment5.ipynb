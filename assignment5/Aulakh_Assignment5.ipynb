{
  "nbformat": 4,
  "nbformat_minor": 0,
  "metadata": {
    "kernelspec": {
      "display_name": "Python 3",
      "language": "python",
      "name": "python3"
    },
    "language_info": {
      "codemirror_mode": {
        "name": "ipython",
        "version": 3
      },
      "file_extension": ".py",
      "mimetype": "text/x-python",
      "name": "python",
      "nbconvert_exporter": "python",
      "pygments_lexer": "ipython3",
      "version": "3.7.6"
    },
    "colab": {
      "name": "Aulakh_Assignment 5 - NN_from_scratch_MNIST.ipynb",
      "provenance": [],
      "collapsed_sections": []
    }
  },
  "cells": [
    {
      "cell_type": "markdown",
      "metadata": {
        "id": "8Be48AI2ogQ2",
        "colab_type": "text"
      },
      "source": [
        "# Assignment 5 - Neural Networks Implementation (due: Wed April 15th)"
      ]
    },
    {
      "cell_type": "markdown",
      "metadata": {
        "id": "iUjYVZjjogQ3",
        "colab_type": "text"
      },
      "source": [
        "This notebook show neural networks implemnetation on the MNIST hand-written dataset.  Adapted from a version published by https://github.com/jdwittenauer"
      ]
    },
    {
      "cell_type": "markdown",
      "metadata": {
        "id": "8_JWtwz-ogQ4",
        "colab_type": "text"
      },
      "source": [
        "We are going go over the neural network architecture discussed in class. This includes the feed-forward neural network - from input through the hidden layers to the out put and adjusting the weights as to minimize the loss step-by-step through each layer called **backpropagation.**  We'll implement both unregularized and regularized versions of the neural network cost function and gradient computation in the backpropagation function.  We'll also implement random weight initialization and a method to use the network to make predictions.\n",
        "\n",
        "Instead of manually going through gradient descent iterations, we'll simply use a package available for minimizing the backpropogation function.\n",
        "\n",
        "The MNIST data set is available in different sizes and formats from different sources.  We will use the one made avialble here: \"ex3data1.mat\""
      ]
    },
    {
      "cell_type": "code",
      "metadata": {
        "id": "nTWW01hcogQ5",
        "colab_type": "code",
        "colab": {}
      },
      "source": [
        "import numpy as np\n",
        "import pandas as pd\n",
        "import matplotlib.pyplot as plt\n",
        "from scipy.io import loadmat\n",
        "%matplotlib inline"
      ],
      "execution_count": 0,
      "outputs": []
    },
    {
      "cell_type": "markdown",
      "metadata": {
        "id": "WYVD55rfogQ-",
        "colab_type": "text"
      },
      "source": [
        "The data we are loading is a dictionary that contains both input data and output.  The input data is a 2D numpy array X contains 5000 grayscale images of handwritten digits of 0, 1, 2, 3, ... 9.  Each raw of 400 entries between 0 and 255 that are grayscale intensity values of 20X20 pixel representation of a handwritten digit that is unrolled into a single vector.\n",
        "\n",
        "The output y contains the corresponding labels of 0,1,2, ..., 9.  \n",
        "\n",
        "Note that in the original convention followed for this dataset: 0 is mapped to 10, while all other labels are exactly the digit they represent.  Unlike in many other programming languages Python entries start at 0 and so we will change 10 back to 0 as it ought to be.\n",
        "\n",
        "**Multiclass classification:** You may notice that in our logistic regression models the output could only be one of two values: 0 or 1.  However what we are attempting here is an example of multiclass classification: outputs of more than two values - 10 in this case.  Neural networks facilitates this easily. In fact what we will allow now is the terminal layer to consist of multiple activations: 10 in this problem.  We use a function called softmax to make the outputs to be probabilties that adds upto 1.  The predicted value will correspond to the activation node with highest probabilty"
      ]
    },
    {
      "cell_type": "markdown",
      "metadata": {
        "id": "o3EJhtr-ogQ-",
        "colab_type": "text"
      },
      "source": [
        "### Exercise #1: \n",
        "\n",
        "Load the data following the following five cells or by running the 6th cell\n",
        "\n",
        "- you should have the X and y from data in the dataframes X_df and y_df"
      ]
    },
    {
      "cell_type": "code",
      "metadata": {
        "id": "u0swOCnkogQ_",
        "colab_type": "code",
        "outputId": "24f75219-f305-434e-c546-dcc87e7808a8",
        "colab": {
          "base_uri": "https://localhost:8080/",
          "height": 306
        }
      },
      "source": [
        "##This is a dictionary that contains both input data and output.\n",
        "data = loadmat('ex3data1.mat')\n",
        "data"
      ],
      "execution_count": 4,
      "outputs": [
        {
          "output_type": "execute_result",
          "data": {
            "text/plain": [
              "{'X': array([[0., 0., 0., ..., 0., 0., 0.],\n",
              "        [0., 0., 0., ..., 0., 0., 0.],\n",
              "        [0., 0., 0., ..., 0., 0., 0.],\n",
              "        ...,\n",
              "        [0., 0., 0., ..., 0., 0., 0.],\n",
              "        [0., 0., 0., ..., 0., 0., 0.],\n",
              "        [0., 0., 0., ..., 0., 0., 0.]]),\n",
              " '__globals__': [],\n",
              " '__header__': b'MATLAB 5.0 MAT-file, Platform: GLNXA64, Created on: Sun Oct 16 13:09:09 2011',\n",
              " '__version__': '1.0',\n",
              " 'y': array([[10],\n",
              "        [10],\n",
              "        [10],\n",
              "        ...,\n",
              "        [ 9],\n",
              "        [ 9],\n",
              "        [ 9]], dtype=uint8)}"
            ]
          },
          "metadata": {
            "tags": []
          },
          "execution_count": 4
        }
      ]
    },
    {
      "cell_type": "code",
      "metadata": {
        "id": "BAuF62YYogRD",
        "colab_type": "code",
        "outputId": "31fd0057-35d6-4ad3-be42-99dfa7c5c45c",
        "colab": {
          "base_uri": "https://localhost:8080/",
          "height": 34
        }
      },
      "source": [
        "data['X'].shape"
      ],
      "execution_count": 5,
      "outputs": [
        {
          "output_type": "execute_result",
          "data": {
            "text/plain": [
              "(5000, 400)"
            ]
          },
          "metadata": {
            "tags": []
          },
          "execution_count": 5
        }
      ]
    },
    {
      "cell_type": "markdown",
      "metadata": {
        "id": "dIR9Rs00ogRG",
        "colab_type": "text"
      },
      "source": [
        "This is the data we will be using through out, let's create some useful variables up-front."
      ]
    },
    {
      "cell_type": "code",
      "metadata": {
        "id": "yIa6fuVCogRH",
        "colab_type": "code",
        "colab": {}
      },
      "source": [
        "X = data['X']\n",
        "y = data['y']"
      ],
      "execution_count": 0,
      "outputs": []
    },
    {
      "cell_type": "code",
      "metadata": {
        "id": "DnYvkIC2ogRK",
        "colab_type": "code",
        "colab": {}
      },
      "source": [
        "#Let us set the values '10' back what it ought to be: 0\n",
        "y[y==10]=0"
      ],
      "execution_count": 0,
      "outputs": []
    },
    {
      "cell_type": "markdown",
      "metadata": {
        "id": "MwGorbw4ogRO",
        "colab_type": "text"
      },
      "source": [
        "#### Let us convert these data sets into dataframes so we can pickle them and move them around without losing integrity"
      ]
    },
    {
      "cell_type": "code",
      "metadata": {
        "id": "hje1-xQrogRP",
        "colab_type": "code",
        "colab": {}
      },
      "source": [
        "X_df = pd.DataFrame(X)\n",
        "y_df = pd.DataFrame(y)"
      ],
      "execution_count": 0,
      "outputs": []
    },
    {
      "cell_type": "code",
      "metadata": {
        "id": "UV2e4-StogRU",
        "colab_type": "code",
        "colab": {}
      },
      "source": [
        "import pickle\n",
        "X_df = pd.read_pickle('X_df.pkl')\n",
        "y_df = pd.read_pickle('y_df.pkl')"
      ],
      "execution_count": 0,
      "outputs": []
    },
    {
      "cell_type": "markdown",
      "metadata": {
        "id": "Ltijr1UzogRX",
        "colab_type": "text"
      },
      "source": [
        "### Exercise #2:\n",
        "\n",
        "Display **20** randomly selected images from X_df and display them in two rows by appropriately changing the following code"
      ]
    },
    {
      "cell_type": "code",
      "metadata": {
        "id": "EYc5ajH3ogRX",
        "colab_type": "code",
        "outputId": "691dc06c-d31b-48d3-bac3-af452daa9583",
        "colab": {
          "base_uri": "https://localhost:8080/",
          "height": 198
        }
      },
      "source": [
        "#Let us quickly checkout what is in these data sets:\n",
        "sample = np.random.randint(0,len(X), 20)\n",
        "X_samples = [X[i,:] for i in sample]\n",
        "\n",
        "#plot the digits\n",
        "i = 0\n",
        "\n",
        "fig, ax = plt.subplots(nrows=2, ncols=10)\n",
        "for row in ax:\n",
        "    for col in row:\n",
        "        col.imshow(X_samples[i].reshape(20,20))\n",
        "        i += 1\n",
        "plt.show()"
      ],
      "execution_count": 10,
      "outputs": [
        {
          "output_type": "display_data",
          "data": {
            "image/png": "[encoded data removed]",
            "text/plain": [
              "<Figure size 432x288 with 20 Axes>"
            ]
          },
          "metadata": {
            "tags": [],
            "needs_background": "light"
          }
        }
      ]
    },
    {
      "cell_type": "code",
      "metadata": {
        "id": "ry-zcAgvogRa",
        "colab_type": "code",
        "outputId": "cf0d67ce-1d6d-4a19-ed68-666cf80bab6a",
        "colab": {
          "base_uri": "https://localhost:8080/",
          "height": 51
        }
      },
      "source": [
        "#Checkout their labels\n",
        "y[sample].flatten()"
      ],
      "execution_count": 0,
      "outputs": [
        {
          "output_type": "execute_result",
          "data": {
            "text/plain": [
              "array([ 7,  4, 10,  4,  7,  1, 10,  2,  8,  7,  8,  6, 10,  8,  1,  9,  3,\n",
              "        8,  9,  1], dtype=uint8)"
            ]
          },
          "metadata": {
            "tags": []
          },
          "execution_count": 15
        }
      ]
    },
    {
      "cell_type": "markdown",
      "metadata": {
        "id": "TNSMi9K-ogRe",
        "colab_type": "text"
      },
      "source": [
        "**One hot encoding:** Now we need to turn the label array into what is called one-hot-encoded matrix.  The one-hot-matrix is a representation of representation of a n-dimensional vector of values 0, 1, 2, ..., 9 as in here into 10Xn matrix where each column will have all zeros except exactly one 1 in the position corresponding to the value the column represents.  For example 7 will be a column where all entries except the 7th are all zeros and the 7th is a one.\n",
        "\n",
        "One-hot-encoding is a way to represent a vector with binary entries alone."
      ]
    },
    {
      "cell_type": "code",
      "metadata": {
        "id": "xKjVZgCYogRf",
        "colab_type": "code",
        "outputId": "ccde5c7d-f556-422b-a25c-a4c7e1effe72",
        "colab": {
          "base_uri": "https://localhost:8080/",
          "height": 34
        }
      },
      "source": [
        "from sklearn.preprocessing import OneHotEncoder\n",
        "encoder = OneHotEncoder(sparse=False)\n",
        "y_onehot = encoder.fit_transform(y)\n",
        "y_onehot.shape"
      ],
      "execution_count": 11,
      "outputs": [
        {
          "output_type": "execute_result",
          "data": {
            "text/plain": [
              "(5000, 10)"
            ]
          },
          "metadata": {
            "tags": []
          },
          "execution_count": 11
        }
      ]
    },
    {
      "cell_type": "code",
      "metadata": {
        "id": "b-gfYA9SogRi",
        "colab_type": "code",
        "outputId": "4dd3f4ee-81c8-46ae-e6e0-559fd3bc92ea",
        "colab": {
          "base_uri": "https://localhost:8080/",
          "height": 34
        }
      },
      "source": [
        "#Here is an example of an y entry and its one-hot-encoding\n",
        "y[0], y_onehot[0,:]"
      ],
      "execution_count": 12,
      "outputs": [
        {
          "output_type": "execute_result",
          "data": {
            "text/plain": [
              "(array([0], dtype=uint8), array([1., 0., 0., 0., 0., 0., 0., 0., 0., 0.]))"
            ]
          },
          "metadata": {
            "tags": []
          },
          "execution_count": 12
        }
      ]
    },
    {
      "cell_type": "markdown",
      "metadata": {
        "id": "sda1TRXXogRl",
        "colab_type": "text"
      },
      "source": [
        "The neural network we're going to build for this exercise has an input layer matching the size of our instance data (400 + the bias unit), a hidden layer with 25 units (26 with the bias unit), and an output layer with 10 units corresponding to our one-hot encoding for the class labels. \n",
        "\n",
        "The first piece we need to implement is a cost function to evaluate the loss for a given set of network parameters.  The source mathematical function is in the exercise text (and looks pretty intimidating).  Here are the functions required to compute the cost."
      ]
    },
    {
      "cell_type": "code",
      "metadata": {
        "id": "Nz6E8Yx_ogRl",
        "colab_type": "code",
        "colab": {}
      },
      "source": [
        "def sigmoid(z):\n",
        "    return 1 / (1 + np.exp(-z))"
      ],
      "execution_count": 0,
      "outputs": []
    },
    {
      "cell_type": "markdown",
      "metadata": {
        "id": "cPejoEe0ogRn",
        "colab_type": "text"
      },
      "source": [
        "## Forward propogation and Cost"
      ]
    },
    {
      "cell_type": "code",
      "metadata": {
        "id": "zqLeZ_-sogRo",
        "colab_type": "code",
        "colab": {}
      },
      "source": [
        "#Forward propogation: This takes us through one sweep from input through one hidden layer to the outputs\n",
        "def forward_propagate(X, theta1, theta2):\n",
        "    m = X.shape[0]\n",
        "    \n",
        "    #First insert a a row of ones into the X data - 0th column\n",
        "    a1 = np.insert(X, 0, values=np.ones(m), axis=1)\n",
        "    \n",
        "    #Caluculate the X*Theta\n",
        "    z2 = a1 * theta1.T\n",
        "    \n",
        "    #now apply the sigmoid function and then insert a column of ones\n",
        "    a2 = np.insert(sigmoid(z2), 0, values=np.ones(m), axis=1)\n",
        "    \n",
        "    #Calculate X*Theta\n",
        "    z3 = a2 * theta2.T\n",
        "    \n",
        "    #The outputs\n",
        "    h = sigmoid(z3)\n",
        "    \n",
        "    #Now return all the calculates values that we need for calculating and then backpropagation\n",
        "    return a1, z2, a2, z3, h"
      ],
      "execution_count": 0,
      "outputs": []
    },
    {
      "cell_type": "code",
      "metadata": {
        "id": "PI0ze_NJogRq",
        "colab_type": "code",
        "colab": {}
      },
      "source": [
        "## Cost\n",
        "def cost(params, input_size, hidden_size1, num_labels, X, y, learning_rate):\n",
        "    m = X.shape[0]\n",
        "    X = np.matrix(X)\n",
        "    y = np.matrix(y)\n",
        "    \n",
        "    n1 = hidden_size1 * (input_size + 1)\n",
        "    n2 = n1 + num_labels * (hidden_size1 + 1)\n",
        "    \n",
        "    # reshape the parameter array into parameter matrices for each layer\n",
        "    theta1 = np.matrix(np.reshape(params[:n1], (hidden_size1, (input_size + 1))))\n",
        "    theta2 = np.matrix(np.reshape(params[n1:n2], (num_labels, (hidden_size1 + 1))))\n",
        "\n",
        "    \n",
        "    # run the feed-forward pass\n",
        "    a1, z2, a2, z3, h = forward_propagate(X, theta1, theta2)\n",
        "    \n",
        "    # compute the cost\n",
        "    J = 0\n",
        "    for i in range(m):\n",
        "        first_term = - np.multiply(y[i,:], np.log(h[i,:]))\n",
        "        second_term = - (np.multiply((1 - y[i,:]), np.log(1 - h[i,:])))\n",
        "        J += np.sum(first_term + second_term)\n",
        "    \n",
        "    J = J / m\n",
        "    \n",
        "    return J"
      ],
      "execution_count": 0,
      "outputs": []
    },
    {
      "cell_type": "markdown",
      "metadata": {
        "id": "5rRamDpHogRs",
        "colab_type": "text"
      },
      "source": [
        "We've used the sigmoid function before so that's not new.  The forward-propagate function computes the hypothesis for each training instance given the current parameters.  It's output shape should match the same of our one-hot encoding for y.  We can test this real quick to convince ourselves that it's working as expected (the intermediate steps are also returned as these will be useful later)."
      ]
    },
    {
      "cell_type": "markdown",
      "metadata": {
        "id": "6_2OowPtogRt",
        "colab_type": "text"
      },
      "source": [
        "### Exercise #3\n",
        "\n",
        "Work the rest of this application (except for exercise 4 later) using hidden_size2 set to 50"
      ]
    },
    {
      "cell_type": "code",
      "metadata": {
        "id": "YXK46c9zogRt",
        "colab_type": "code",
        "outputId": "d24dd847-1698-4869-f0d8-c3bdaa26260d",
        "colab": {
          "base_uri": "https://localhost:8080/",
          "height": 34
        }
      },
      "source": [
        "# initial setup\n",
        "input_size = 400\n",
        "hidden_size1 = 25\n",
        "hidden_size2 = 50\n",
        "num_labels = 10\n",
        "learning_rate = 1\n",
        "\n",
        "# randomly initialize a parameter array of the size of the full network's parameters\n",
        "params = (np.random.random(size=hidden_size2 * (input_size + 1) + num_labels * (hidden_size2 + 1)) - 0.5) * 0.25\n",
        "\n",
        "m = X.shape[0]\n",
        "X = np.matrix(X)\n",
        "y = np.matrix(y)\n",
        "\n",
        "# unravel the parameter array into parameter matrices for each layer\n",
        "theta1 = np.matrix(np.reshape(params[:hidden_size2 * (input_size + 1)], (hidden_size2, (input_size + 1))))\n",
        "theta2 = np.matrix(np.reshape(params[hidden_size2 * (input_size + 1):], (num_labels, (hidden_size2 + 1))))\n",
        "\n",
        "theta1.shape, theta2.shape"
      ],
      "execution_count": 16,
      "outputs": [
        {
          "output_type": "execute_result",
          "data": {
            "text/plain": [
              "((50, 401), (10, 51))"
            ]
          },
          "metadata": {
            "tags": []
          },
          "execution_count": 16
        }
      ]
    },
    {
      "cell_type": "code",
      "metadata": {
        "id": "2bB6omGxogRy",
        "colab_type": "code",
        "outputId": "fd92e83c-37db-4f9e-badf-0a32c3b1c54f",
        "colab": {
          "base_uri": "https://localhost:8080/",
          "height": 34
        }
      },
      "source": [
        "a1, z2, a2, z3, h = forward_propagate(X, theta1, theta2)\n",
        "a1.shape, z2.shape, a2.shape, z3.shape, h.shape"
      ],
      "execution_count": 17,
      "outputs": [
        {
          "output_type": "execute_result",
          "data": {
            "text/plain": [
              "((5000, 401), (5000, 50), (5000, 51), (5000, 10), (5000, 10))"
            ]
          },
          "metadata": {
            "tags": []
          },
          "execution_count": 17
        }
      ]
    },
    {
      "cell_type": "markdown",
      "metadata": {
        "id": "ppZduzHUogR1",
        "colab_type": "text"
      },
      "source": [
        "The cost function, after computing the hypothesis matrix h, applies the cost equation to compute the total error between y and h."
      ]
    },
    {
      "cell_type": "code",
      "metadata": {
        "id": "bEeP6hjAogR1",
        "colab_type": "code",
        "outputId": "e3a1daaa-c2b7-421f-d266-6d153e84f990",
        "colab": {
          "base_uri": "https://localhost:8080/",
          "height": 34
        }
      },
      "source": [
        "cost(params, input_size, hidden_size2, num_labels, X, y_onehot, learning_rate)"
      ],
      "execution_count": 18,
      "outputs": [
        {
          "output_type": "execute_result",
          "data": {
            "text/plain": [
              "7.564604243741938"
            ]
          },
          "metadata": {
            "tags": []
          },
          "execution_count": 18
        }
      ]
    },
    {
      "cell_type": "markdown",
      "metadata": {
        "id": "IF6oPNqBogR4",
        "colab_type": "text"
      },
      "source": [
        "## Forward propogation with regularization and Cost\n",
        "\n",
        "Our next step is to add regularization to the cost function.  If you're following along in the exercise text and thought the last equation looked ugly, this one looks REALLY ugly.  It's actually not as complicated as it looks though - in fact, the regularization term is simply an addition to the cost we already computed.  Here's the revised cost function."
      ]
    },
    {
      "cell_type": "code",
      "metadata": {
        "id": "DHg30cL0ogR4",
        "colab_type": "code",
        "colab": {}
      },
      "source": [
        "def cost(params, input_size, hidden_size1, num_labels, X, y, learning_rate):\n",
        "    m = X.shape[0]\n",
        "    X = np.matrix(X)\n",
        "    y = np.matrix(y)\n",
        "    \n",
        "    \n",
        "    n1 = hidden_size1 * (input_size + 1)\n",
        "    n2 = n1 + num_labels * (hidden_size1 + 1)\n",
        "    \n",
        "    # reshape the parameter array into parameter matrices for each layer\n",
        "    theta1 = np.matrix(np.reshape(params[:n1], (hidden_size1, (input_size + 1))))\n",
        "    theta2 = np.matrix(np.reshape(params[n1:n2], (num_labels, (hidden_size1 + 1))))\n",
        "\n",
        "    # run the feed-forward pass\n",
        "    a1, z2, a2, z3, h = forward_propagate(X, theta1, theta2)\n",
        "    \n",
        "    # compute the cost\n",
        "    J = 0\n",
        "    for i in range(m):\n",
        "        first_term = np.multiply(-y[i,:], np.log(h[i,:]))\n",
        "        second_term = np.multiply((1 - y[i,:]), np.log(1 - h[i,:]))\n",
        "        J += np.sum(first_term - second_term)\n",
        "    \n",
        "    J = J / m\n",
        "    \n",
        "    # add the cost regularization term\n",
        "    J += (float(learning_rate) / (2 * m)) * (np.sum(np.power(theta1[:,1:], 2)) + np.sum(np.power(theta2[:,1:], 2)))\n",
        "    \n",
        "    return J"
      ],
      "execution_count": 0,
      "outputs": []
    },
    {
      "cell_type": "code",
      "metadata": {
        "id": "OupmUjCgogR7",
        "colab_type": "code",
        "outputId": "6afa39d0-e1fc-415b-d086-624a82e6dd41",
        "colab": {
          "base_uri": "https://localhost:8080/",
          "height": 34
        }
      },
      "source": [
        "cost(params, input_size, hidden_size1, num_labels, X, y_onehot, learning_rate)"
      ],
      "execution_count": 20,
      "outputs": [
        {
          "output_type": "execute_result",
          "data": {
            "text/plain": [
              "7.2348871357972095"
            ]
          },
          "metadata": {
            "tags": []
          },
          "execution_count": 20
        }
      ]
    },
    {
      "cell_type": "markdown",
      "metadata": {
        "id": "PM52ERyiogR9",
        "colab_type": "text"
      },
      "source": [
        "Next up is the backpropagation algorithm.  Backpropagation computes the parameter updates that will reduce the error of the network on the training data.  The first thing we need is a function that computes the gradient of the sigmoid function we created earlier."
      ]
    },
    {
      "cell_type": "code",
      "metadata": {
        "id": "2ieXr_5MogR-",
        "colab_type": "code",
        "colab": {}
      },
      "source": [
        "def sigmoid_gradient(z):\n",
        "    return np.multiply(sigmoid(z), (1 - sigmoid(z)))"
      ],
      "execution_count": 0,
      "outputs": []
    },
    {
      "cell_type": "markdown",
      "metadata": {
        "id": "oaGHGMuBogSB",
        "colab_type": "text"
      },
      "source": [
        "## Backpropogation\n",
        "\n",
        "Now we're ready to implement backpropagation to compute the gradients.  Since the computations required for backpropagation are a superset of those required in the cost function, we're actually going to extend the cost function to also perform backpropagation and return both the cost and the gradients."
      ]
    },
    {
      "cell_type": "code",
      "metadata": {
        "id": "ME4IGBXqogSB",
        "colab_type": "code",
        "colab": {}
      },
      "source": [
        "def backprop(params, input_size, hidden_size1, num_labels, X, y, learning_rate):\n",
        "    m = X.shape[0]\n",
        "    X = np.matrix(X)\n",
        "    y = np.matrix(y)\n",
        "    \n",
        "    # reshape the parameter array into parameter matrices for each layer\n",
        "    theta1 = np.matrix(np.reshape(params[:hidden_size1 * (input_size + 1)], (hidden_size1, (input_size + 1))))\n",
        "    theta2 = np.matrix(np.reshape(params[hidden_size1 * (input_size + 1):], (num_labels, (hidden_size1 + 1))))\n",
        "    \n",
        "    # run the feed-forward pass\n",
        "    a1, z2, a2, z3, h = forward_propagate(X, theta1, theta2)\n",
        "    \n",
        "    # initializations\n",
        "    J = 0\n",
        "    delta1 = np.zeros(theta1.shape)  # (25, 401)\n",
        "    delta2 = np.zeros(theta2.shape)  # (10, 26)\n",
        "    \n",
        "    # compute the cost\n",
        "    for i in range(m):\n",
        "        first_term = np.multiply(-y[i,:], np.log(h[i,:]))\n",
        "        second_term = np.multiply((1 - y[i,:]), np.log(1 - h[i,:]))\n",
        "        J += np.sum(first_term - second_term)\n",
        "    \n",
        "    J = J / m\n",
        "    \n",
        "    # add the cost regularization term\n",
        "    J += (float(learning_rate) / (2 * m)) * (np.sum(np.power(theta1[:,1:], 2)) + np.sum(np.power(theta2[:,1:], 2)))\n",
        "    \n",
        "    # perform backpropagation\n",
        "    for t in range(m):\n",
        "        a1t = a1[t,:]  # (1, 401)\n",
        "        z2t = z2[t,:]  # (1, 25)\n",
        "        a2t = a2[t,:]  # (1, 26)\n",
        "        ht = h[t,:]  # (1, 10)\n",
        "        yt = y[t,:]  # (1, 10)\n",
        "        \n",
        "        d3t = ht - yt  # (1, 10)\n",
        "        \n",
        "        #insert a one in first position for bias\n",
        "        z2t = np.insert(z2t, 0, values=np.ones(1))  # (1, 26)\n",
        "        d2t = np.multiply((theta2.T * d3t.T).T, sigmoid_gradient(z2t))  # (1, 26)\n",
        "        \n",
        "        delta1 = delta1 + (d2t[:,1:]).T * a1t\n",
        "        delta2 = delta2 + d3t.T * a2t\n",
        "        \n",
        "    delta1 = delta1 / m\n",
        "    delta2 = delta2 / m\n",
        "    \n",
        "    # unravel the gradient matrices into a single array\n",
        "    grad = np.concatenate((np.ravel(delta1), np.ravel(delta2)))\n",
        "    \n",
        "    return J, grad"
      ],
      "execution_count": 0,
      "outputs": []
    },
    {
      "cell_type": "markdown",
      "metadata": {
        "id": "yGaHm_MxogSF",
        "colab_type": "text"
      },
      "source": [
        "The hardest part of the backprop computation (other than understanding WHY we're doing all these calculations) is getting the matrix dimensions right.  By the way, if you find it confusing when to use A * B vs. np.multiply(A, B), you're not alone.  Basically the former is a matrix multiplication and the latter is an element-wise multiplication (unless A or B is a scalar value, in which case it doesn't matter).  I wish there was a more concise syntax for this (maybe there is and I'm just not aware of it).\n",
        "\n",
        "Anyway, let's test it out to make sure the function returns what we're expecting it to."
      ]
    },
    {
      "cell_type": "code",
      "metadata": {
        "id": "AEnTMbNJogSF",
        "colab_type": "code",
        "outputId": "3a276e23-ebe6-42ef-d5cd-e75612fdd6d2",
        "colab": {
          "base_uri": "https://localhost:8080/",
          "height": 34
        }
      },
      "source": [
        "params = (np.random.random(size=hidden_size1 * (input_size + 1) + num_labels * (hidden_size1 + 1)) - 0.5) * 0.25\n",
        "J, grad = backprop(params, input_size, hidden_size1, num_labels, X, y_onehot, learning_rate)\n",
        "J, grad.shape"
      ],
      "execution_count": 24,
      "outputs": [
        {
          "output_type": "execute_result",
          "data": {
            "text/plain": [
              "(7.031192009481413, (10285,))"
            ]
          },
          "metadata": {
            "tags": []
          },
          "execution_count": 24
        }
      ]
    },
    {
      "cell_type": "markdown",
      "metadata": {
        "id": "_uLf3notogSJ",
        "colab_type": "text"
      },
      "source": [
        "### Exercise 4:\n",
        "\n",
        "1.  Split the datasets X_df and y_onehot into 80% for training and the rest for testing using:\n",
        "from sklearn.model_selection import train_test_split\n",
        "\n",
        "2. Then use only the train datasets to train (in the next cell)"
      ]
    },
    {
      "cell_type": "code",
      "metadata": {
        "id": "SSXib9GUwkzR",
        "colab_type": "code",
        "colab": {}
      },
      "source": [
        "from sklearn.model_selection import train_test_split\n",
        "X_train, X_test, y_train, y_test = train_test_split(X_df, y_onehot, test_size=0.2, random_state=0)"
      ],
      "execution_count": 0,
      "outputs": []
    },
    {
      "cell_type": "code",
      "metadata": {
        "id": "WnJOOh3FogSJ",
        "colab_type": "code",
        "outputId": "05c7b74e-4783-47ec-ad6e-000900d11bb6",
        "colab": {
          "base_uri": "https://localhost:8080/",
          "height": 187
        }
      },
      "source": [
        "from scipy.optimize import minimize\n",
        "\n",
        "# minimize the objective function\n",
        "fmin = minimize(fun=backprop, x0=params, args=(input_size, hidden_size1, num_labels, X_train , y_train, learning_rate), \n",
        "                method='TNC', jac=True, options={'maxiter': 250})\n",
        "fmin"
      ],
      "execution_count": 26,
      "outputs": [
        {
          "output_type": "execute_result",
          "data": {
            "text/plain": [
              "     fun: 0.49743755459069605\n",
              "     jac: array([-1.01735509e-05,  0.00000000e+00,  0.00000000e+00, ...,\n",
              "        1.63749480e-04,  1.66067197e-05, -1.97024089e-03])\n",
              " message: 'Converged (|f_n-f_(n-1)| ~= 0)'\n",
              "    nfev: 219\n",
              "     nit: 17\n",
              "  status: 1\n",
              " success: True\n",
              "       x: array([ 0.05365439,  0.10772846,  0.09442987, ..., -0.87720241,\n",
              "       -0.33404702, -0.14082003])"
            ]
          },
          "metadata": {
            "tags": []
          },
          "execution_count": 26
        }
      ]
    },
    {
      "cell_type": "markdown",
      "metadata": {
        "id": "gyEAURI8ogSM",
        "colab_type": "text"
      },
      "source": [
        "### Exercise 5:\n",
        "\n",
        "1.  Now use only the test datasets to predict (in the next cell\n",
        "2.  And calclate the accuray by comparing to the test labels"
      ]
    },
    {
      "cell_type": "code",
      "metadata": {
        "id": "VNZHoGtOogSM",
        "colab_type": "code",
        "colab": {}
      },
      "source": [
        "X = np.matrix(X_test)\n",
        "theta1 = np.matrix(np.reshape(fmin.x[:hidden_size1 * (input_size + 1)], (hidden_size1, (input_size + 1))))\n",
        "theta2 = np.matrix(np.reshape(fmin.x[hidden_size1 * (input_size + 1):], (num_labels, (hidden_size1 + 1))))\n",
        "\n",
        "a1, z2, a2, z3, h = forward_propagate(X, theta1, theta2)\n",
        "y_pred = np.array(np.argmax(h, axis=1))\n",
        "y_pred"
      ],
      "execution_count": 0,
      "outputs": []
    },
    {
      "cell_type": "code",
      "metadata": {
        "id": "nGvhCGVwogSP",
        "colab_type": "code",
        "outputId": "dd816c99-4329-444f-dc46-9b3af323dbef",
        "colab": {
          "base_uri": "https://localhost:8080/",
          "height": 136
        }
      },
      "source": [
        "y"
      ],
      "execution_count": 28,
      "outputs": [
        {
          "output_type": "execute_result",
          "data": {
            "text/plain": [
              "matrix([[0],\n",
              "        [0],\n",
              "        [0],\n",
              "        ...,\n",
              "        [9],\n",
              "        [9],\n",
              "        [9]], dtype=uint8)"
            ]
          },
          "metadata": {
            "tags": []
          },
          "execution_count": 28
        }
      ]
    },
    {
      "cell_type": "markdown",
      "metadata": {
        "id": "MUNixQvcogSS",
        "colab_type": "text"
      },
      "source": [
        "Finally we can compute the accuracy to see how well our trained network is doing."
      ]
    },
    {
      "cell_type": "code",
      "metadata": {
        "id": "-DdKb5ocogST",
        "colab_type": "code",
        "outputId": "0587bbe8-e9cd-4431-93c7-873aebd717a7",
        "colab": {
          "base_uri": "https://localhost:8080/",
          "height": 34
        }
      },
      "source": [
        "correct = [1 if a == b else 0 for (a, b) in zip(y_pred, encoder.inverse_transform(y_test))]\n",
        "accuracy = sum(correct)/len(correct)\n",
        "print('accuracy = {0}%'.format(accuracy * 100))"
      ],
      "execution_count": 31,
      "outputs": [
        {
          "output_type": "stream",
          "text": [
            "accuracy = 92.0%\n"
          ],
          "name": "stdout"
        }
      ]
    },
    {
      "cell_type": "markdown",
      "metadata": {
        "id": "krgF7gvAogSW",
        "colab_type": "text"
      },
      "source": [
        "### Optional exercise: complete the same train and test parts for the regualrized version of the model below"
      ]
    },
    {
      "cell_type": "markdown",
      "metadata": {
        "id": "fRcTPtcVogSX",
        "colab_type": "text"
      },
      "source": [
        "### Regularization:\n",
        "\n",
        "We still have one more modification to make to the backprop function - adding regularization to the gradient calculations.  The final regularized version is below."
      ]
    },
    {
      "cell_type": "code",
      "metadata": {
        "id": "metSZ3V8ogSX",
        "colab_type": "code",
        "colab": {}
      },
      "source": [
        "def backprop(params, input_size, hidden_size1, num_labels, X, y, learning_rate):\n",
        "    m = X.shape[0]\n",
        "    X = np.matrix(X)\n",
        "    y = np.matrix(y)\n",
        "    \n",
        "    # reshape the parameter array into parameter matrices for each layer\n",
        "    theta1 = np.matrix(np.reshape(params[:hidden_size1 * (input_size + 1)], (hidden_size1, (input_size + 1))))\n",
        "    theta2 = np.matrix(np.reshape(params[hidden_size1 * (input_size + 1):], (num_labels, (hidden_size1 + 1))))\n",
        "    \n",
        "    # run the feed-forward pass\n",
        "    a1, z2, a2, z3, h = forward_propagate(X, theta1, theta2)\n",
        "    \n",
        "    # initializations\n",
        "    J = 0\n",
        "    delta1 = np.zeros(theta1.shape)  # (25, 401)\n",
        "    delta2 = np.zeros(theta2.shape)  # (10, 26)\n",
        "    \n",
        "    # compute the cost\n",
        "    for i in range(m):\n",
        "        first_term = np.multiply(-y[i,:], np.log(h[i,:]))\n",
        "        second_term = np.multiply((1 - y[i,:]), np.log(1 - h[i,:]))\n",
        "        J += np.sum(first_term - second_term)\n",
        "    \n",
        "    J = J / m\n",
        "    \n",
        "    # add the cost regularization term\n",
        "    J += (float(learning_rate) / (2 * m)) * (np.sum(np.power(theta1[:,1:], 2)) + np.sum(np.power(theta2[:,1:], 2)))\n",
        "    \n",
        "    # perform backpropagation\n",
        "    for t in range(m):\n",
        "        a1t = a1[t,:]  # (1, 401)\n",
        "        z2t = z2[t,:]  # (1, 25)\n",
        "        a2t = a2[t,:]  # (1, 26)\n",
        "        ht = h[t,:]  # (1, 10)\n",
        "        yt = y[t,:]  # (1, 10)\n",
        "        \n",
        "        d3t = ht - yt  # (1, 10)\n",
        "        \n",
        "        z2t = np.insert(z2t, 0, values=np.ones(1))  # (1, 26)\n",
        "        d2t = np.multiply((theta2.T * d3t.T).T, sigmoid_gradient(z2t))  # (1, 26)\n",
        "        \n",
        "        delta1 = delta1 + (d2t[:,1:]).T * a1t\n",
        "        delta2 = delta2 + d3t.T * a2t\n",
        "        \n",
        "    delta1 = delta1 / m\n",
        "    delta2 = delta2 / m\n",
        "    \n",
        "    # add the gradient regularization term\n",
        "    delta1[:,1:] = delta1[:,1:] + (theta1[:,1:] * learning_rate) / m\n",
        "    delta2[:,1:] = delta2[:,1:] + (theta2[:,1:] * learning_rate) / m\n",
        "    \n",
        "    # unravel the gradient matrices into a single array\n",
        "    grad = np.concatenate((np.ravel(delta1), np.ravel(delta2)))\n",
        "    \n",
        "    return J, grad"
      ],
      "execution_count": 0,
      "outputs": []
    },
    {
      "cell_type": "code",
      "metadata": {
        "id": "HaTaF7wcogSa",
        "colab_type": "code",
        "outputId": "7607c1ec-bdd7-4d8e-e051-0a458a0def30",
        "colab": {
          "base_uri": "https://localhost:8080/",
          "height": 34
        }
      },
      "source": [
        "J, grad = backprop(params, input_size, hidden_size1, num_labels, X, y_onehot, learning_rate)\n",
        "J, grad.shape"
      ],
      "execution_count": 33,
      "outputs": [
        {
          "output_type": "execute_result",
          "data": {
            "text/plain": [
              "(6.965200853506394, (10285,))"
            ]
          },
          "metadata": {
            "tags": []
          },
          "execution_count": 33
        }
      ]
    },
    {
      "cell_type": "markdown",
      "metadata": {
        "id": "LXwxaNyfogSd",
        "colab_type": "text"
      },
      "source": [
        "We're finally ready to train our network and use it to make predictions.  This is roughly similar to the previous exercise with multi-class logistic regression."
      ]
    },
    {
      "cell_type": "code",
      "metadata": {
        "id": "QwT4Y4Q3ogSe",
        "colab_type": "code",
        "outputId": "2d9bbc99-b974-479b-b030-bda61c63f699",
        "colab": {
          "base_uri": "https://localhost:8080/",
          "height": 187
        }
      },
      "source": [
        "from scipy.optimize import minimize\n",
        "\n",
        "# minimize the objective function\n",
        "fmin = minimize(fun=backprop, x0=params, args=(input_size, hidden_size1, num_labels, X, y_onehot, learning_rate), \n",
        "                method='TNC', jac=True, options={'maxiter': 250})\n",
        "fmin"
      ],
      "execution_count": 34,
      "outputs": [
        {
          "output_type": "execute_result",
          "data": {
            "text/plain": [
              "     fun: 0.7853765531795984\n",
              "     jac: array([ 8.78404888e-03,  7.05897462e-06,  6.88936482e-06, ...,\n",
              "       -1.15480576e-05,  1.01701412e-05, -8.89327163e-06])\n",
              " message: 'Max. number of function evaluations reached'\n",
              "    nfev: 250\n",
              "     nit: 29\n",
              "  status: 3\n",
              " success: False\n",
              "       x: array([-3.55711794,  0.00705897,  0.00688936, ..., -0.23330398,\n",
              "       -0.1976127 , -0.20250271])"
            ]
          },
          "metadata": {
            "tags": []
          },
          "execution_count": 34
        }
      ]
    },
    {
      "cell_type": "markdown",
      "metadata": {
        "id": "1johhJnlogSg",
        "colab_type": "text"
      },
      "source": [
        "We put a bound on the number of iterations since the objective function is not likely to completely converge.  Our total cost has dropped below 0.5 though so that's a good indicator that the algorithm is working.  Let's use the parameters it found and forward-propagate them through the network to get some predictions."
      ]
    },
    {
      "cell_type": "code",
      "metadata": {
        "id": "TDeyKFxRogSh",
        "colab_type": "code",
        "colab": {}
      },
      "source": [
        "X = np.matrix(X)\n",
        "theta1 = np.matrix(np.reshape(fmin.x[:hidden_size1 * (input_size + 1)], (hidden_size1, (input_size + 1))))\n",
        "theta2 = np.matrix(np.reshape(fmin.x[hidden_size1 * (input_size + 1):], (num_labels, (hidden_size1 + 1))))\n",
        "\n",
        "a1, z2, a2, z3, h = forward_propagate(X, theta1, theta2)\n",
        "y_pred = np.array(np.argmax(h, axis=1))\n",
        "y_pred"
      ],
      "execution_count": 0,
      "outputs": []
    },
    {
      "cell_type": "markdown",
      "metadata": {
        "id": "qSh0fgF-ogSl",
        "colab_type": "text"
      },
      "source": [
        "Finally we can compute the accuracy to see how well our trained network is doing."
      ]
    },
    {
      "cell_type": "code",
      "metadata": {
        "id": "YaSo4u0iogSn",
        "colab_type": "code",
        "outputId": "3decaf70-c7f0-4588-97f1-689e44d27d45",
        "colab": {
          "base_uri": "https://localhost:8080/",
          "height": 34
        }
      },
      "source": [
        "correct = [1 if a == b else 0 for (a, b) in zip(y_pred, y)]\n",
        "accuracy = sum(correct)/len(correct)\n",
        "print('accuracy = {0}%'.format(accuracy * 100))"
      ],
      "execution_count": 36,
      "outputs": [
        {
          "output_type": "stream",
          "text": [
            "accuracy = 96.8%\n"
          ],
          "name": "stdout"
        }
      ]
    },
    {
      "cell_type": "markdown",
      "metadata": {
        "id": "4ECv_mSpogSr",
        "colab_type": "text"
      },
      "source": [
        "And we're done!  We've successfully implemented a rudimentary feed-forward neural network with backpropagation and used it to classify images of handwritten digits.  In the next exercise we'll look at another power supervised learning algorithm, support vector machines."
      ]
    },
    {
      "cell_type": "code",
      "metadata": {
        "id": "wGnH5nbJogSs",
        "colab_type": "code",
        "colab": {}
      },
      "source": [
        ""
      ],
      "execution_count": 0,
      "outputs": []
    }
  ]
}