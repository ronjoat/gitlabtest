{
  "nbformat": 4,
  "nbformat_minor": 0,
  "metadata": {
    "kernelspec": {
      "display_name": "Python 3",
      "language": "python",
      "name": "python3"
    },
    "language_info": {
      "codemirror_mode": {
        "name": "ipython",
        "version": 3
      },
      "file_extension": ".py",
      "mimetype": "text/x-python",
      "name": "python",
      "nbconvert_exporter": "python",
      "pygments_lexer": "ipython3",
      "version": "3.7.6"
    },
    "colab": {
      "name": "Aulakh_Assignment4.ipynb",
      "provenance": [],
      "collapsed_sections": [
        "70EFym0txykr",
        "bVPl8_1NxylZ",
        "vJfmONlkxyly"
      ]
    }
  },
  "cells": [
    {
      "cell_type": "markdown",
      "metadata": {
        "id": "SZS8Pn7Cxyjl",
        "colab_type": "text"
      },
      "source": [
        "### Logistic Regression with Gradient Descent: A Classification Exercise - #4\n",
        "### Due: March 18th, 2020 ###\n",
        "\n",
        "**In this exercise you are going to complete the code necessary for a supervised classification problem**  \n",
        "\n",
        "We start by generating a set of points ($x_1,x_2$) to roughly cover the 2-dimensional plane.  Then we decide on curve that seperates points into two sets: First the inside and outside of the unit circle.  We the create a lable variable y with values 1 and 0 for points inside and outside.  Then we pick 6 features that are variables $1, x_1, x_2, x_1^2, x_2^2, and\\ x_1x_2$ .  Our objective is to use the standard gradient descent method minimize a the cost function for the logistic regression hypothesis function, and have the program figure out the optimal coefficients among the features for the correct boundary.\n",
        "\n",
        "This exercise takes you through 4 basic steps:\n",
        "\n",
        "- Generating a simulated set of data and labels\n",
        "- Constructing a set of features\n",
        "- Writing the Cost function for logistic regression\n",
        "- Gradient Descent for logistic regression\n",
        "\n",
        "You will also apply the packaged logistic regression model from sklearn and compare with our own solution\n",
        "\n",
        "Packages Used:  \n",
        "\n",
        "**pandas** for data frames and easy to read csv files   \n",
        "**numpy** for array and matrix mathematics functions  \n",
        "**matplotlib** for plotting  \n",
        "and **LogisticRegression** from sklearn.linear_model  "
      ]
    },
    {
      "cell_type": "code",
      "metadata": {
        "id": "_JWOXtUnxyjm",
        "colab_type": "code",
        "colab": {}
      },
      "source": [
        "import numpy as np\n",
        "import pandas as pd\n",
        "import matplotlib.pyplot as plt\n",
        "\n",
        "%matplotlib inline"
      ],
      "execution_count": 0,
      "outputs": []
    },
    {
      "cell_type": "markdown",
      "metadata": {
        "id": "07Oyo5jTxyjq",
        "colab_type": "text"
      },
      "source": [
        "### Let us generate sufficient point to cover the x-y plane"
      ]
    },
    {
      "cell_type": "code",
      "metadata": {
        "id": "FdKoglPkxyjq",
        "colab_type": "code",
        "colab": {}
      },
      "source": [
        "np.random.seed(42)\n",
        "m = 50000\n",
        "\n",
        "#Now generate 5,000 points points within square [-3, 3] X [-3, 3]\n",
        "X_data = np.random.uniform([-3,-3],[3,3], size=(m,2))"
      ],
      "execution_count": 0,
      "outputs": []
    },
    {
      "cell_type": "code",
      "metadata": {
        "id": "aGjzZm0dxyjt",
        "colab_type": "code",
        "outputId": "7aca7e92-4c81-4070-8bd6-8ec0451a1d70",
        "colab": {
          "base_uri": "https://localhost:8080/",
          "height": 34
        }
      },
      "source": [
        "X_data.shape"
      ],
      "execution_count": 3,
      "outputs": [
        {
          "output_type": "execute_result",
          "data": {
            "text/plain": [
              "(50000, 2)"
            ]
          },
          "metadata": {
            "tags": []
          },
          "execution_count": 3
        }
      ]
    },
    {
      "cell_type": "code",
      "metadata": {
        "id": "aNqR28rhxyjx",
        "colab_type": "code",
        "outputId": "c251f601-c276-445b-c672-62d30d2ddef1",
        "colab": {
          "base_uri": "https://localhost:8080/",
          "height": 625
        }
      },
      "source": [
        "#Let's plot this simulated points on the plane\n",
        "fig = plt.figure(figsize=(10,10))\n",
        "plt.scatter(X_data[:,0], X_data[:,1])\n",
        "plt.title('The canvas: 5,000 points in the [-3,3]X[-3,3] range')\n",
        "plt.xlabel('x1', fontsize = 14)\n",
        "plt.ylabel('x2', fontsize = 14)\n",
        "plt.show()"
      ],
      "execution_count": 8,
      "outputs": [
        {
          "output_type": "display_data",
          "data": {
            "image/png": "[encoded data removed]",
            "text/plain": [
              "<Figure size 720x720 with 1 Axes>"
            ]
          },
          "metadata": {
            "tags": [],
            "needs_background": "light"
          }
        }
      ]
    },
    {
      "cell_type": "markdown",
      "metadata": {
        "id": "YYm8m5XNxyj0",
        "colab_type": "text"
      },
      "source": [
        "### The features are: $$ 1, x_1, x_2, x_1^2, x_2^2, x_1*x_2$$"
      ]
    },
    {
      "cell_type": "code",
      "metadata": {
        "id": "by5hGSIBxyj0",
        "colab_type": "code",
        "colab": {}
      },
      "source": [
        "#Now we will create and stack the variables: the bias term - all ones, x1, x2, x2^2, and x2^2 into a feature matrix\n",
        "features_2 = np.vstack((np.ones(len(X_data)), X_data[:,0], X_data[:,1], X_data[:,0]*X_data[:,0], \n",
        "                      X_data[:,1]*X_data[:,1],  X_data[:,0]*X_data[:,1])).astype(np.float32)"
      ],
      "execution_count": 0,
      "outputs": []
    },
    {
      "cell_type": "code",
      "metadata": {
        "id": "I6vxJmmrxyj3",
        "colab_type": "code",
        "colab": {}
      },
      "source": [
        "#As is standard, our features now will be made into columns and for convenience we call the matrix X\n",
        "X = features_2.T.copy()"
      ],
      "execution_count": 0,
      "outputs": []
    },
    {
      "cell_type": "code",
      "metadata": {
        "id": "7XOHbJoJxyj6",
        "colab_type": "code",
        "outputId": "0a4f5aca-7100-47ab-f739-5a56e67fdd02",
        "colab": {
          "base_uri": "https://localhost:8080/",
          "height": 34
        }
      },
      "source": [
        "#Check to see we have the correct dimensions\n",
        "X.shape"
      ],
      "execution_count": 11,
      "outputs": [
        {
          "output_type": "execute_result",
          "data": {
            "text/plain": [
              "(50000, 6)"
            ]
          },
          "metadata": {
            "tags": []
          },
          "execution_count": 11
        }
      ]
    },
    {
      "cell_type": "code",
      "metadata": {
        "id": "WmGAs_Guxyj_",
        "colab_type": "code",
        "colab": {}
      },
      "source": [
        "#Now create a empty label vector y\n",
        "y = np.zeros(X.shape[0])"
      ],
      "execution_count": 0,
      "outputs": []
    },
    {
      "cell_type": "markdown",
      "metadata": {
        "id": "pOgP4TvsxykC",
        "colab_type": "text"
      },
      "source": [
        "#### Now let us separate the points $x^2 + y^2 < 1$ from the rest"
      ]
    },
    {
      "cell_type": "code",
      "metadata": {
        "id": "NUJ3UGSuxykC",
        "colab_type": "code",
        "colab": {}
      },
      "source": [
        "#The points are seperated by a circle.  Does this make sense?\n",
        "y = (X[:,3] + X[:,4]) < 1"
      ],
      "execution_count": 0,
      "outputs": []
    },
    {
      "cell_type": "code",
      "metadata": {
        "id": "qcBNGqQDxykF",
        "colab_type": "code",
        "colab": {}
      },
      "source": [
        "#y is a boolean vector of True and False, let's turn it into labels of 1 and 0\n",
        "labels = y*1"
      ],
      "execution_count": 0,
      "outputs": []
    },
    {
      "cell_type": "code",
      "metadata": {
        "id": "B11SN40TxykJ",
        "colab_type": "code",
        "outputId": "770647eb-1a79-4f5a-d8b4-7fda6a80e23e",
        "colab": {
          "base_uri": "https://localhost:8080/",
          "height": 34
        }
      },
      "source": [
        "#take a look at the labels\n",
        "labels"
      ],
      "execution_count": 15,
      "outputs": [
        {
          "output_type": "execute_result",
          "data": {
            "text/plain": [
              "array([0, 0, 0, ..., 0, 0, 1])"
            ]
          },
          "metadata": {
            "tags": []
          },
          "execution_count": 15
        }
      ]
    },
    {
      "cell_type": "code",
      "metadata": {
        "id": "-pVQY-TWxykM",
        "colab_type": "code",
        "outputId": "0b144969-4fce-42cd-cc7f-6cd8e4fe7fef",
        "colab": {
          "base_uri": "https://localhost:8080/",
          "height": 333
        }
      },
      "source": [
        "#Don't see anything?  Try this!\n",
        "plt.hist(labels)"
      ],
      "execution_count": 16,
      "outputs": [
        {
          "output_type": "execute_result",
          "data": {
            "text/plain": [
              "(array([45664.,     0.,     0.,     0.,     0.,     0.,     0.,     0.,\n",
              "            0.,  4336.]),\n",
              " array([0. , 0.1, 0.2, 0.3, 0.4, 0.5, 0.6, 0.7, 0.8, 0.9, 1. ]),\n",
              " <a list of 10 Patch objects>)"
            ]
          },
          "metadata": {
            "tags": []
          },
          "execution_count": 16
        },
        {
          "output_type": "display_data",
          "data": {
            "image/png": "[encoded data removed]",
            "text/plain": [
              "<Figure size 432x288 with 1 Axes>"
            ]
          },
          "metadata": {
            "tags": [],
            "needs_background": "light"
          }
        }
      ]
    },
    {
      "cell_type": "code",
      "metadata": {
        "id": "LN0MD_2vxykP",
        "colab_type": "code",
        "outputId": "99cfaae8-435d-429c-ad91-601492b1c2c1",
        "colab": {
          "base_uri": "https://localhost:8080/",
          "height": 483
        }
      },
      "source": [
        "# Visualize the data:\n",
        "fig = plt.figure(figsize=(8,8))\n",
        "plt.scatter(X[:,1], X[:,2], c=y, s=40, cmap=plt.cm.Spectral);"
      ],
      "execution_count": 17,
      "outputs": [
        {
          "output_type": "display_data",
          "data": {
            "image/png": "[encoded data removed]",
            "text/plain": [
              "<Figure size 576x576 with 1 Axes>"
            ]
          },
          "metadata": {
            "tags": [],
            "needs_background": "light"
          }
        }
      ]
    },
    {
      "cell_type": "markdown",
      "metadata": {
        "id": "sySByiltxykR",
        "colab_type": "text"
      },
      "source": [
        "### Now you going to start coding to develop the logistic regression model that seperates this data.  In other words, identify the boundary curve "
      ]
    },
    {
      "cell_type": "markdown",
      "metadata": {
        "id": "PvBKI7qhxykR",
        "colab_type": "text"
      },
      "source": [
        "#### <font color='blue'> Exercise #1: </font> Complete the code for sigmoid function"
      ]
    },
    {
      "cell_type": "code",
      "metadata": {
        "id": "EzigyeBsxykS",
        "colab_type": "code",
        "colab": {}
      },
      "source": [
        "#The function is the basic sigmoid function:  You can compelete in a single line of code\n",
        "def sigmoid(scores):\n",
        "    '''This function calculates the sigmoid of the input vector \"scores\"\n",
        "    and returns the vector \"logits\" '''\n",
        "    \n",
        "    #### insert your code here ~ one line\n",
        "    logits = 1/(1+np.exp(-scores))\n",
        "    \n",
        "    return logits\n",
        "    ######"
      ],
      "execution_count": 0,
      "outputs": []
    },
    {
      "cell_type": "markdown",
      "metadata": {
        "id": "ohyxiby5xykU",
        "colab_type": "text"
      },
      "source": [
        "#### <font color='blue'> Exercise #2: </font> The cost function for logistic regression"
      ]
    },
    {
      "cell_type": "code",
      "metadata": {
        "id": "uia6EFnJxykV",
        "colab_type": "code",
        "colab": {}
      },
      "source": [
        "##Now you will have to complete the code for costFunction: 3 -4 lines of code\n",
        "def costFunction(features,labels,weights):\n",
        "    '''This function calculates the cost'''\n",
        "    m = len(features)\n",
        "    ##### insert your code here ~ two to three lines: use cost function for logistic regression#####\n",
        "    scores = np.dot(features,weights)\n",
        "    predictions = sigmoid(scores)\n",
        "    loss_y_hat =  np.sum(labels*np.log(predictions) + (1-labels)*(np.log(1-predictions)))\n",
        "    \n",
        "    ############\n",
        "    cost = (-loss_y_hat)/m\n",
        "    return cost"
      ],
      "execution_count": 0,
      "outputs": []
    },
    {
      "cell_type": "markdown",
      "metadata": {
        "id": "G80WMbTAxykX",
        "colab_type": "text"
      },
      "source": [
        "#### <font color='blue'> Exercise #3 </font> Complete the code for gradient descent for logistic regression"
      ]
    },
    {
      "cell_type": "code",
      "metadata": {
        "id": "AGACXGN4xykY",
        "colab_type": "code",
        "colab": {}
      },
      "source": [
        "#This is the most interesting part of the assignment:  The gradient descent\n",
        "# to calculate the optimal parameters\n",
        "\n",
        "def log_reg(features, labels, num_steps, learning_rate):\n",
        "    \n",
        "    '''This function uses the sigmoid and costFunction and\n",
        "    implement gradient descent and calculate the costs at every\n",
        "    10,000 steps'''\n",
        "        \n",
        "    weights = np.zeros(features.shape[1])\n",
        "    m = features.shape[0]\n",
        "    \n",
        "    for step in range(num_steps):\n",
        "        scores = np.dot(features, weights)\n",
        "        predictions = sigmoid(scores)\n",
        "\n",
        "        # Update weights with gradient\n",
        "        ####### insert your code here ~ two to three lines #########\n",
        "        loss = predictions - labels.flatten()\n",
        "        gradient = features.T.dot(loss)/m\n",
        "        weights = weights - learning_rate * gradient\n",
        "        \n",
        "        #######\n",
        "        # Print log-likelihood every so often\n",
        "        if step % 10000 == 0:\n",
        "            print(costFunction(features,labels,weights))\n",
        "        \n",
        "    return weights"
      ],
      "execution_count": 0,
      "outputs": []
    },
    {
      "cell_type": "markdown",
      "metadata": {
        "id": "Rd9vEcJSxykb",
        "colab_type": "text"
      },
      "source": [
        "#### Scaling is important to keep the iterative process in check"
      ]
    },
    {
      "cell_type": "code",
      "metadata": {
        "id": "nUSTdkAqxykb",
        "colab_type": "code",
        "colab": {}
      },
      "source": [
        "from sklearn.preprocessing import MinMaxScaler  #we may need this if the square is larger"
      ],
      "execution_count": 0,
      "outputs": []
    },
    {
      "cell_type": "code",
      "metadata": {
        "id": "yy-hu1QMxyke",
        "colab_type": "code",
        "colab": {}
      },
      "source": [
        "x_scaler = MinMaxScaler()\n",
        "X_scaled = x_scaler.fit_transform(X)"
      ],
      "execution_count": 0,
      "outputs": []
    },
    {
      "cell_type": "markdown",
      "metadata": {
        "id": "sOMM1TNmxykh",
        "colab_type": "text"
      },
      "source": [
        "#### Call up the log_reg function that does gradient descent on the cost function, to render optimal values of $\\hat\\Theta$"
      ]
    },
    {
      "cell_type": "code",
      "metadata": {
        "id": "epfrEs4Bxykh",
        "colab_type": "code",
        "colab": {
          "base_uri": "https://localhost:8080/",
          "height": 68
        },
        "outputId": "c7938980-d82d-4e59-e16e-a228d5f81e1a"
      },
      "source": [
        "##Let us now use our function to come up with the optimal parameters\n",
        "Theta_hat = log_reg(X, labels,num_steps = 30000, learning_rate = 0.01)"
      ],
      "execution_count": 58,
      "outputs": [
        {
          "output_type": "stream",
          "text": [
            "0.6493843526865103\n",
            "0.07035753012527438\n",
            "0.05411669421546796\n"
          ],
          "name": "stdout"
        }
      ]
    },
    {
      "cell_type": "markdown",
      "metadata": {
        "id": "ye7pBCjfxyko",
        "colab_type": "text"
      },
      "source": [
        "#### You would see numbers like these:\n",
        "\n",
        "0.649746365538\n",
        "0.0713032927782\n",
        "0.0549840373037"
      ]
    },
    {
      "cell_type": "code",
      "metadata": {
        "id": "Jd5Du5plxykp",
        "colab_type": "code",
        "outputId": "2ff79121-92ae-42b1-fd7e-7576bb7114d3",
        "colab": {
          "base_uri": "https://localhost:8080/",
          "height": 51
        }
      },
      "source": [
        "## Take a look at the parameter set\n",
        "Theta_hat"
      ],
      "execution_count": 59,
      "outputs": [
        {
          "output_type": "execute_result",
          "data": {
            "text/plain": [
              "array([ 2.80780773, -0.01209348,  0.01057021, -3.06387661, -3.04460327,\n",
              "        0.0072521 ])"
            ]
          },
          "metadata": {
            "tags": []
          },
          "execution_count": 59
        }
      ]
    },
    {
      "cell_type": "markdown",
      "metadata": {
        "id": "70EFym0txykr",
        "colab_type": "text"
      },
      "source": [
        "#### You ought to see these or numbers proportional to these\n",
        "\n",
        "array([array([2.80780773, -0.01209348,  0.01057021, -3.06387661, -3.04460327, 0.0072521])])"
      ]
    },
    {
      "cell_type": "markdown",
      "metadata": {
        "id": "mQBG0N7Mxykr",
        "colab_type": "text"
      },
      "source": [
        "#### Let us think about this: out of the all the coefficients of $\\theta_0, \\theta_1, \\theta_2, \\theta_3, \\theta_4,\\theta_5$ we know the nonzero labels correspond to the circle: $\\theta_0,\\theta_3,\\theta_4$ and our procedure finds basically those and eliminates $\\theta_1,\\theta_2, and \\theta_5$\n",
        "\n",
        "#### In fact the actual parameter set:  Theta = np.array([1,0,0,-1,-1,0]) that corresponds to:\n",
        "$$ 1 + 0x_1 + 0x_2 - x_1^2 - x_2^2 + 0x_1x_2$$"
      ]
    },
    {
      "cell_type": "code",
      "metadata": {
        "id": "a4xs13Awxykr",
        "colab_type": "code",
        "colab": {}
      },
      "source": [
        "##Use our model parameters Theta_hat to predict the labels:  y_pred\n",
        "y_pred = np.dot(X,Theta_hat)"
      ],
      "execution_count": 0,
      "outputs": []
    },
    {
      "cell_type": "code",
      "metadata": {
        "id": "hZS4e0Zdxykv",
        "colab_type": "code",
        "outputId": "77a3ad88-905e-4bb5-cbe2-df4be6eac856",
        "colab": {
          "base_uri": "https://localhost:8080/",
          "height": 34
        }
      },
      "source": [
        "##Make sure we are getting the correct shape: an array size (5000,)\n",
        "y_pred.shape"
      ],
      "execution_count": 61,
      "outputs": [
        {
          "output_type": "execute_result",
          "data": {
            "text/plain": [
              "(50000,)"
            ]
          },
          "metadata": {
            "tags": []
          },
          "execution_count": 61
        }
      ]
    },
    {
      "cell_type": "code",
      "metadata": {
        "id": "KDUzhXF6xykx",
        "colab_type": "code",
        "colab": {}
      },
      "source": [
        "## Now turn all output values greater than 0.5 to one class and others to second\n",
        "y_hat = (y_pred >= 0.5).astype(int)"
      ],
      "execution_count": 0,
      "outputs": []
    },
    {
      "cell_type": "code",
      "metadata": {
        "id": "Tvqyf514xykz",
        "colab_type": "code",
        "outputId": "2ea38bc8-082a-4add-a8a3-aa43557f421c",
        "colab": {
          "base_uri": "https://localhost:8080/",
          "height": 34
        }
      },
      "source": [
        "## Take a look:  array([0, 1, 1, ..., 1, 0, 1])?\n",
        "y_hat"
      ],
      "execution_count": 64,
      "outputs": [
        {
          "output_type": "execute_result",
          "data": {
            "text/plain": [
              "array([0, 0, 0, ..., 0, 0, 1])"
            ]
          },
          "metadata": {
            "tags": []
          },
          "execution_count": 64
        }
      ]
    },
    {
      "cell_type": "code",
      "metadata": {
        "id": "Jlrk_KLgxyk1",
        "colab_type": "code",
        "outputId": "200ad4f3-94d5-4855-c0c0-5560ee0f72b9",
        "colab": {
          "base_uri": "https://localhost:8080/",
          "height": 265
        }
      },
      "source": [
        "#Let us look at it another way\n",
        "plt.hist(y_hat)\n",
        "plt.show()\n"
      ],
      "execution_count": 65,
      "outputs": [
        {
          "output_type": "display_data",
          "data": {
            "image/png": "[encoded data removed]",
            "text/plain": [
              "<Figure size 432x288 with 1 Axes>"
            ]
          },
          "metadata": {
            "tags": [],
            "needs_background": "light"
          }
        }
      ]
    },
    {
      "cell_type": "code",
      "metadata": {
        "id": "MFtqRCahxyk3",
        "colab_type": "code",
        "outputId": "0db1ac02-7563-4365-c480-0d0d8ca40fa4",
        "colab": {
          "base_uri": "https://localhost:8080/",
          "height": 592
        }
      },
      "source": [
        "# Visualize the data what our classification did: If done correctly it out to look like the graph below:\n",
        "fig = plt.figure(figsize=(10,10))\n",
        "plt.scatter(X[:,1], X[:,2], c=y_hat, s=40, cmap=plt.cm.Spectral);"
      ],
      "execution_count": 66,
      "outputs": [
        {
          "output_type": "display_data",
          "data": {
            "image/png": "[encoded data removed]",
            "text/plain": [
              "<Figure size 720x720 with 1 Axes>"
            ]
          },
          "metadata": {
            "tags": [],
            "needs_background": "light"
          }
        }
      ]
    },
    {
      "cell_type": "code",
      "metadata": {
        "id": "MuEzjmTYxyk5",
        "colab_type": "code",
        "outputId": "b3b7579e-2c56-49c2-84a1-ca541a0ca20f",
        "colab": {
          "base_uri": "https://localhost:8080/",
          "height": 34
        }
      },
      "source": [
        "#Let us see how our modeling is doing\n",
        "sum(np.abs(y_hat-labels))/len(X)"
      ],
      "execution_count": 67,
      "outputs": [
        {
          "output_type": "execute_result",
          "data": {
            "text/plain": [
              "0.02108"
            ]
          },
          "metadata": {
            "tags": []
          },
          "execution_count": 67
        }
      ]
    },
    {
      "cell_type": "markdown",
      "metadata": {
        "id": "U1EaR0Xuxyk7",
        "colab_type": "text"
      },
      "source": [
        "### You should see something like:\n",
        "\n",
        "0.0128"
      ]
    },
    {
      "cell_type": "markdown",
      "metadata": {
        "id": "RPuvo1iPxyk7",
        "colab_type": "text"
      },
      "source": [
        "#### Now let us explore this a bit further: A mixed term $x_1^3 + x_2^3$ added on for labels"
      ]
    },
    {
      "cell_type": "code",
      "metadata": {
        "id": "dlY3dI9dxyk8",
        "colab_type": "code",
        "colab": {}
      },
      "source": [
        "#y_3 = (X[:,2]*X[:,4]+X[:,1]*X[:,1]*X[:,1]) < 1\n",
        "y_3 = (X[:,1]*X[:,1]*X[:,1] + X[:,2]*X[:,2]*X[:,2]) < 1"
      ],
      "execution_count": 0,
      "outputs": []
    },
    {
      "cell_type": "code",
      "metadata": {
        "id": "vfmtwAFMxyk_",
        "colab_type": "code",
        "outputId": "1161e4ce-d377-4eed-abd9-d21fe534083a",
        "colab": {
          "base_uri": "https://localhost:8080/",
          "height": 51
        }
      },
      "source": [
        "X[:,1]"
      ],
      "execution_count": 69,
      "outputs": [
        {
          "output_type": "execute_result",
          "data": {
            "text/plain": [
              "array([-0.7527593 ,  1.3919636 , -2.063888  , ...,  2.0635185 ,\n",
              "        1.6755173 , -0.00331653], dtype=float32)"
            ]
          },
          "metadata": {
            "tags": []
          },
          "execution_count": 69
        }
      ]
    },
    {
      "cell_type": "code",
      "metadata": {
        "id": "-zMDMvFoxylC",
        "colab_type": "code",
        "colab": {}
      },
      "source": [
        "#Again we turn the labels to 0/1\n",
        "labels_3 = y_3*1"
      ],
      "execution_count": 0,
      "outputs": []
    },
    {
      "cell_type": "code",
      "metadata": {
        "id": "ZudGHH7OxylE",
        "colab_type": "code",
        "outputId": "3a699b33-823f-4ca5-9f4c-3123a6bb8c12",
        "colab": {
          "base_uri": "https://localhost:8080/",
          "height": 483
        }
      },
      "source": [
        "# Visualize the data what is labled\n",
        "fig = plt.figure(figsize=(8,8))\n",
        "plt.scatter(X[:,1], X[:,2], c=labels_3, s=40, cmap=plt.cm.Spectral);"
      ],
      "execution_count": 71,
      "outputs": [
        {
          "output_type": "display_data",
          "data": {
            "image/png": "[encoded data removed]",
            "text/plain": [
              "<Figure size 576x576 with 1 Axes>"
            ]
          },
          "metadata": {
            "tags": [],
            "needs_background": "light"
          }
        }
      ]
    },
    {
      "cell_type": "markdown",
      "metadata": {
        "id": "swTJrPVKxylH",
        "colab_type": "text"
      },
      "source": [
        "#### Now we will use the sklearn package to effciently model the data, but use the original X"
      ]
    },
    {
      "cell_type": "code",
      "metadata": {
        "id": "sBVVNelWxylI",
        "colab_type": "code",
        "colab": {}
      },
      "source": [
        "#Now we will use the sklearn package to effciently model the data, \n",
        "# but use the original X\n",
        "from sklearn.linear_model import LogisticRegression\n",
        "log_reg = LogisticRegression(random_state=42)\n",
        "model = log_reg.fit(X, labels_3)"
      ],
      "execution_count": 0,
      "outputs": []
    },
    {
      "cell_type": "code",
      "metadata": {
        "id": "75JO9abIxylK",
        "colab_type": "code",
        "colab": {}
      },
      "source": [
        "#Get the prediction from the model\n",
        "y3_hat = model.predict(X)"
      ],
      "execution_count": 0,
      "outputs": []
    },
    {
      "cell_type": "code",
      "metadata": {
        "id": "oWkd2v97xylN",
        "colab_type": "code",
        "colab": {}
      },
      "source": [
        "#Turn the labels from boolean to binary\n",
        "y3_hat = y3_hat*1"
      ],
      "execution_count": 0,
      "outputs": []
    },
    {
      "cell_type": "markdown",
      "metadata": {
        "id": "4UqAMsn_xylQ",
        "colab_type": "text"
      },
      "source": [
        "#### Your graph should like like the following:"
      ]
    },
    {
      "cell_type": "code",
      "metadata": {
        "id": "F1PRdJuZxylR",
        "colab_type": "code",
        "outputId": "467661fc-b9ad-4c8d-d0f3-8d8ea49fe623",
        "colab": {
          "base_uri": "https://localhost:8080/",
          "height": 336
        }
      },
      "source": [
        "# Now let us take a look how the model is doing:\n",
        "fig,axes = plt.subplots(1,2, figsize=(10,5), sharey = True)\n",
        "# Visualize the data what is originally labled:\n",
        "axes[0].scatter(X[:,1], X[:,2], c=labels_3, s=40, cmap=plt.cm.Spectral);\n",
        "axes[0].set_title('Original Dataset')\n",
        "# Now plot what the model classified:\n",
        "axes[1].scatter(X[:,1], X[:,2], c=y3_hat, s=40, cmap=plt.cm.Spectral);\n",
        "axes[1].set_title('Classified by Model')\n",
        "plt.show()"
      ],
      "execution_count": 75,
      "outputs": [
        {
          "output_type": "display_data",
          "data": {
            "image/png": "[encoded data removed]",
            "text/plain": [
              "<Figure size 720x360 with 2 Axes>"
            ]
          },
          "metadata": {
            "tags": [],
            "needs_background": "light"
          }
        }
      ]
    },
    {
      "cell_type": "markdown",
      "metadata": {
        "id": "xpOgsvdZxylT",
        "colab_type": "text"
      },
      "source": [
        "#### Obviously our prediction is pretty poor!  It is becuase the terms we have allowed on goes only up to quadratics.  We need to include cubics."
      ]
    },
    {
      "cell_type": "code",
      "metadata": {
        "id": "wAdGsvm2xylU",
        "colab_type": "code",
        "outputId": "11d3ef86-e217-4859-ae8d-7caac0ce21ee",
        "colab": {
          "base_uri": "https://localhost:8080/",
          "height": 34
        }
      },
      "source": [
        "#Let us see how our modeling is doing\n",
        "sum(np.abs(y3_hat-labels_3))/len(y3_hat)"
      ],
      "execution_count": 76,
      "outputs": [
        {
          "output_type": "execute_result",
          "data": {
            "text/plain": [
              "0.0433"
            ]
          },
          "metadata": {
            "tags": []
          },
          "execution_count": 76
        }
      ]
    },
    {
      "cell_type": "markdown",
      "metadata": {
        "id": "bVPl8_1NxylZ",
        "colab_type": "text"
      },
      "source": [
        "#### You ought to see an accuray of 0.0512.  Not bad!  However the picture is not quite matching.  Can we do better?"
      ]
    },
    {
      "cell_type": "markdown",
      "metadata": {
        "id": "_AYguKjQxylZ",
        "colab_type": "text"
      },
      "source": [
        "#### <font color='blue'> Exercise #4:  </font> Now you add all terms up to and including 3rd degree terms such as $1, x_1, x_2, x_1^2, x_2^2, x_1x_2, x_1^3, x_2^3, x_1^2x_2, x_1x_2^2$  in to the feature list so our model is better"
      ]
    },
    {
      "cell_type": "code",
      "metadata": {
        "id": "QC76jBKlxylZ",
        "colab_type": "code",
        "colab": {}
      },
      "source": [
        "#####Construct the feature vector set.  Remember to include all the terms\n",
        "##### including mixed terms that goes up to and including 3rd degree\n",
        "\n",
        "####### insert your code here ~ one-two line #########\n",
        "\n",
        "features_3 = np.vstack((np.ones(len(X_data)), X_data[:,0], X_data[:,1], X_data[:,0]*X_data[:,0], X_data[:,1]*X_data[:,1],  X_data[:,0]*X_data[:,1],X_data[:,0]*X_data[:,0]*X_data[:,0] + X_data[:,1]*X_data[:,1]*X_data[:,1])).astype(np.float32)\n",
        "\n",
        "######"
      ],
      "execution_count": 0,
      "outputs": []
    },
    {
      "cell_type": "code",
      "metadata": {
        "id": "tEmzocK8xyld",
        "colab_type": "code",
        "colab": {}
      },
      "source": [
        "X3 = features_3.T.copy()"
      ],
      "execution_count": 0,
      "outputs": []
    },
    {
      "cell_type": "markdown",
      "metadata": {
        "id": "QitZXKzIxylg",
        "colab_type": "text"
      },
      "source": [
        "#### Now we will use the optimized sklearn package (instead of our implementation) to model the data, but use the X3 involving at most cubics"
      ]
    },
    {
      "cell_type": "code",
      "metadata": {
        "id": "4gohJyOBxylh",
        "colab_type": "code",
        "colab": {}
      },
      "source": [
        "from sklearn.linear_model import LogisticRegression\n",
        "log_reg = LogisticRegression(random_state=42)\n",
        "model = log_reg.fit(X3, labels_3)"
      ],
      "execution_count": 0,
      "outputs": []
    },
    {
      "cell_type": "code",
      "metadata": {
        "id": "YYh310Fyxylj",
        "colab_type": "code",
        "outputId": "049c75e5-a96e-47a1-965a-699de7f521b4",
        "colab": {
          "base_uri": "https://localhost:8080/",
          "height": 68
        }
      },
      "source": [
        "model.coef_"
      ],
      "execution_count": 81,
      "outputs": [
        {
          "output_type": "execute_result",
          "data": {
            "text/plain": [
              "array([[ 6.34282291e-04, -2.46839350e-01, -2.48077325e-01,\n",
              "        -1.43135528e-01, -2.54319571e-01, -2.53441995e-01,\n",
              "        -1.49840072e+01]])"
            ]
          },
          "metadata": {
            "tags": []
          },
          "execution_count": 81
        }
      ]
    },
    {
      "cell_type": "code",
      "metadata": {
        "id": "KX0rPr-Nxyll",
        "colab_type": "code",
        "colab": {}
      },
      "source": [
        "y3_hat = model.predict(X3)"
      ],
      "execution_count": 0,
      "outputs": []
    },
    {
      "cell_type": "code",
      "metadata": {
        "id": "8wPMTeQ-xylo",
        "colab_type": "code",
        "colab": {}
      },
      "source": [
        "y3_hat = y3_hat*1"
      ],
      "execution_count": 0,
      "outputs": []
    },
    {
      "cell_type": "markdown",
      "metadata": {
        "id": "pjw_3E_8xylq",
        "colab_type": "text"
      },
      "source": [
        "### Your graphs should look like the following"
      ]
    },
    {
      "cell_type": "code",
      "metadata": {
        "id": "weCaBSXpxylq",
        "colab_type": "code",
        "outputId": "2abef8eb-ccea-4b8a-9a17-b83a9dddd6cd",
        "colab": {
          "base_uri": "https://localhost:8080/",
          "height": 336
        }
      },
      "source": [
        "# Now let us take a look how the model is doing: If done correctly you ought to see the graphs below\n",
        "fig,axes = plt.subplots(1,2, figsize=(10,5), sharey = True)\n",
        "# Visualize the data what is originally labled:\n",
        "axes[0].scatter(X[:,1], X[:,2], c=labels_3, s=40, cmap=plt.cm.Spectral);\n",
        "axes[0].set_title('Original Dataset')\n",
        "# Now plot what the model classified:\n",
        "axes[1].scatter(X[:,1], X[:,2], c=y3_hat, s=40, cmap=plt.cm.Spectral);\n",
        "axes[1].set_title('Classified by Model')\n",
        "plt.show()"
      ],
      "execution_count": 84,
      "outputs": [
        {
          "output_type": "display_data",
          "data": {
            "image/png": "[encoded data removed]",
            "text/plain": [
              "<Figure size 720x360 with 2 Axes>"
            ]
          },
          "metadata": {
            "tags": [],
            "needs_background": "light"
          }
        }
      ]
    },
    {
      "cell_type": "markdown",
      "metadata": {
        "id": "6iZq6jmzxyls",
        "colab_type": "text"
      },
      "source": [
        "### Pretty close!"
      ]
    },
    {
      "cell_type": "code",
      "metadata": {
        "id": "3_eXPPVQxylt",
        "colab_type": "code",
        "outputId": "66374bbf-3da6-466a-88a8-e76255d7cfde",
        "colab": {
          "base_uri": "https://localhost:8080/",
          "height": 34
        }
      },
      "source": [
        "#Let us see how our modeling is doing\n",
        "sum(np.abs(y3_hat-labels_3))/len(y3_hat)"
      ],
      "execution_count": 85,
      "outputs": [
        {
          "output_type": "execute_result",
          "data": {
            "text/plain": [
              "0.00038"
            ]
          },
          "metadata": {
            "tags": []
          },
          "execution_count": 85
        }
      ]
    },
    {
      "cell_type": "markdown",
      "metadata": {
        "id": "1iwaWyZyxylw",
        "colab_type": "text"
      },
      "source": [
        "#### You ought to see the percent of misclassified point to be around\n",
        "0.0002\n",
        "\n",
        "#### Much better than previous one"
      ]
    },
    {
      "cell_type": "code",
      "metadata": {
        "id": "Fr9NWnbLxylw",
        "colab_type": "code",
        "outputId": "e6a41da3-501c-44be-8ad7-bae4a068e055",
        "colab": {
          "base_uri": "https://localhost:8080/",
          "height": 68
        }
      },
      "source": [
        "model.coef_"
      ],
      "execution_count": 86,
      "outputs": [
        {
          "output_type": "execute_result",
          "data": {
            "text/plain": [
              "array([[ 6.34282291e-04, -2.46839350e-01, -2.48077325e-01,\n",
              "        -1.43135528e-01, -2.54319571e-01, -2.53441995e-01,\n",
              "        -1.49840072e+01]])"
            ]
          },
          "metadata": {
            "tags": []
          },
          "execution_count": 86
        }
      ]
    },
    {
      "cell_type": "markdown",
      "metadata": {
        "id": "vJfmONlkxyly",
        "colab_type": "text"
      },
      "source": [
        "#### Is this what you expected? Notice the coefficients that remains and the one that are depressed, i.e. close to 0"
      ]
    },
    {
      "cell_type": "markdown",
      "metadata": {
        "id": "ItHull1Kxylz",
        "colab_type": "text"
      },
      "source": [
        "#### Congratulations! This concludes our third assignment"
      ]
    },
    {
      "cell_type": "code",
      "metadata": {
        "id": "36O5FOYExyl0",
        "colab_type": "code",
        "colab": {}
      },
      "source": [
        ""
      ],
      "execution_count": 0,
      "outputs": []
    }
  ]
}